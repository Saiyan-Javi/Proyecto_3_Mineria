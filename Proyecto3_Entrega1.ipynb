{
 "cells": [
  {
   "cell_type": "code",
   "execution_count": 1,
   "metadata": {},
   "outputs": [],
   "source": [
    "import pandas as pd\n",
    "import matplotlib.pyplot as plt\n",
    "import seaborn as sns\n",
    "import pyreadstat"
   ]
  },
  {
   "cell_type": "code",
   "execution_count": 2,
   "metadata": {},
   "outputs": [
    {
     "name": "stdout",
     "output_type": "stream",
     "text": [
      "Columnas del dataset:  Index(['DEPREG', 'MUPREG', 'MESREG', 'AÑOREG', 'DIAOCU', 'MESOCU', 'DEPOCU',\n",
      "       'MUPOCU', 'EDADHOM', 'EDADMUJ', 'PUEHOM', 'PUEMUJ', 'NACHOM', 'NACMUJ',\n",
      "       'ESCHOM', 'ESCMUJ', 'CIUOHOM', 'CIUOMUJ'],\n",
      "      dtype='object')\n"
     ]
    }
   ],
   "source": [
    "file_path = \"C:\\\\Users\\\\javie\\\\Documents\\\\UVG\\\\Cuarto año\\\\Primer Semestre\\\\Mineria\\\\Bases_P3_Mineria\\\\div_2014.sav\"\n",
    "data_set, meta = pyreadstat.read_sav(file_path)\n",
    "print(\"Columnas del dataset: \", data_set.columns)\n"
   ]
  },
  {
   "cell_type": "code",
   "execution_count": 6,
   "metadata": {},
   "outputs": [
    {
     "name": "stdout",
     "output_type": "stream",
     "text": [
      "Columnas disponibles: ['DEPREG', 'MUPREG', 'MESREG', 'AÑOREG', 'DIAOCU', 'MESOCU', 'DEPOCU', 'MUPOCU', 'EDADHOM', 'EDADMUJ', 'PUEHOM', 'PUEMUJ', 'NACHOM', 'NACMUJ', 'ESCHOM', 'ESCMUJ', 'CIUOHOM', 'CIUOMUJ']\n",
      "Descripciones: ['Departamento de registro', 'Municipio de registro', 'Mes de registro', 'Año de registro', 'Dia de ocurrencia', 'Mes de ocurrencia', 'Departamento de ocurrencia', 'Municipio de ocurrencia', 'Edad del hombre', 'Edad de la mujer', 'Pueblo de pertenencia del hombre', 'Pueblo de pertenencia de la mujer', 'Nacionalidad del hombre', 'Nacionalidad de la mujer', 'Escolaridad del hombre', 'Escolaridad de la mujer', 'Ocupación (Subgrupos CIUO-08) del hombre', 'Ocupación (Subgrupos CIUO-08) de la mujer']\n"
     ]
    }
   ],
   "source": [
    "_, meta = pyreadstat.read_sav(file_path, metadataonly=True)\n",
    "\n",
    "print(\"Columnas disponibles:\", meta.column_names)\n",
    "print(\"Descripciones:\", meta.column_labels)"
   ]
  },
  {
   "cell_type": "code",
   "execution_count": 7,
   "metadata": {},
   "outputs": [
    {
     "name": "stdout",
     "output_type": "stream",
     "text": [
      "   DEPREG MUPREG  MESREG  AÑOREG  DIAOCU  MESOCU  DEPOCU MUPOCU  EDADHOM  \\\n",
      "0    19.0   1901     7.0  2014.0     6.0     6.0    19.0   1901    999.0   \n",
      "1    10.0   1001     4.0  2014.0    10.0     3.0    10.0   1001    999.0   \n",
      "2     1.0   0101     9.0  2014.0     4.0     8.0     3.0   0301    999.0   \n",
      "3     3.0   0309     1.0  2015.0     7.0     8.0     3.0   0309     30.0   \n",
      "4    10.0   1001     5.0  2014.0     4.0     4.0    10.0   1001    999.0   \n",
      "\n",
      "   EDADMUJ  PUEHOM  PUEMUJ  NACHOM  NACMUJ  ESCHOM  ESCMUJ   CIUOHOM   CIUOMUJ  \n",
      "0    999.0     9.0     9.0    76.0   320.0     9.0     9.0        34      NEOG  \n",
      "1    999.0     9.0     9.0    76.0   320.0     9.0     9.0  IGNORADO  IGNORADO  \n",
      "2    999.0     4.0     4.0    76.0   320.0     9.0     9.0  IGNORADO  IGNORADO  \n",
      "3     27.0     9.0     9.0   124.0   320.0     1.0     1.0        52      NEOG  \n",
      "4    999.0     9.0     9.0   156.0   320.0     9.0     9.0        52      NEOG  \n"
     ]
    }
   ],
   "source": [
    "data_set, _ = pyreadstat.read_sav(file_path, row_limit=5)\n",
    "print(data_set)\n"
   ]
  }
 ],
 "metadata": {
  "kernelspec": {
   "display_name": "Python 3",
   "language": "python",
   "name": "python3"
  },
  "language_info": {
   "codemirror_mode": {
    "name": "ipython",
    "version": 3
   },
   "file_extension": ".py",
   "mimetype": "text/x-python",
   "name": "python",
   "nbconvert_exporter": "python",
   "pygments_lexer": "ipython3",
   "version": "3.11.9"
  }
 },
 "nbformat": 4,
 "nbformat_minor": 2
}
