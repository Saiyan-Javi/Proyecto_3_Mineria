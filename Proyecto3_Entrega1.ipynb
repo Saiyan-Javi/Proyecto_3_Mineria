{
 "cells": [
  {
   "cell_type": "code",
   "execution_count": 1,
   "metadata": {},
   "outputs": [],
   "source": [
    "import pandas as pd\n",
    "import matplotlib.pyplot as plt\n",
    "import seaborn as sns\n",
    "import pyreadstat"
   ]
  },
  {
   "cell_type": "code",
   "execution_count": 4,
   "metadata": {},
   "outputs": [
    {
     "name": "stdout",
     "output_type": "stream",
     "text": [
      "Columnas del dataset:  Index(['DEPREG', 'MUPREG', 'MESREG', 'AÑOREG', 'DIAOCU', 'MESOCU', 'DEPOCU',\n",
      "       'MUPOCU', 'EDADHOM', 'EDADMUJ', 'PUEHOM', 'PUEMUJ', 'NACHOM', 'NACMUJ',\n",
      "       'ESCHOM', 'ESCMUJ', 'CIUOHOM', 'CIUOMUJ'],\n",
      "      dtype='object')\n"
     ]
    }
   ],
   "source": [
    "file_path1 = \"C:\\\\Users\\\\javie\\\\Documents\\\\UVG\\\\Cuarto año\\\\Primer Semestre\\\\Mineria\\\\Bases_P3_Mineria\\\\div_2014.sav\"\n",
    "data_set, meta = pyreadstat.read_sav(file_path1)\n",
    "print(\"Columnas del dataset: \", data_set.columns)\n"
   ]
  },
  {
   "cell_type": "code",
   "execution_count": 6,
   "metadata": {},
   "outputs": [
    {
     "name": "stdout",
     "output_type": "stream",
     "text": [
      "Columnas disponibles: ['DEPREG', 'MUPREG', 'MESREG', 'AÑOREG', 'DIAOCU', 'MESOCU', 'DEPOCU', 'MUPOCU', 'EDADHOM', 'EDADMUJ', 'PUEHOM', 'PUEMUJ', 'NACHOM', 'NACMUJ', 'ESCHOM', 'ESCMUJ', 'CIUOHOM', 'CIUOMUJ']\n",
      "Descripciones: ['Departamento de registro', 'Municipio de registro', 'Mes de registro', 'Año de registro', 'Dia de ocurrencia', 'Mes de ocurrencia', 'Departamento de ocurrencia', 'Municipio de ocurrencia', 'Edad del hombre', 'Edad de la mujer', 'Pueblo de pertenencia del hombre', 'Pueblo de pertenencia de la mujer', 'Nacionalidad del hombre', 'Nacionalidad de la mujer', 'Escolaridad del hombre', 'Escolaridad de la mujer', 'Ocupación (Subgrupos CIUO-08) del hombre', 'Ocupación (Subgrupos CIUO-08) de la mujer']\n"
     ]
    }
   ],
   "source": [
    "_, meta = pyreadstat.read_sav(file_path1, metadataonly=True)\n",
    "\n",
    "print(\"Columnas disponibles:\", meta.column_names)\n",
    "print(\"Descripciones:\", meta.column_labels)"
   ]
  },
  {
   "cell_type": "markdown",
   "metadata": {},
   "source": [
    "### Explorar un poco los datos que tienen"
   ]
  },
  {
   "cell_type": "code",
   "execution_count": 8,
   "metadata": {},
   "outputs": [
    {
     "name": "stdout",
     "output_type": "stream",
     "text": [
      "   DEPREG MUPREG  MESREG  AÑOREG  DIAOCU  MESOCU  DEPOCU MUPOCU  EDADHOM  \\\n",
      "0    19.0   1901     7.0  2014.0     6.0     6.0    19.0   1901    999.0   \n",
      "1    10.0   1001     4.0  2014.0    10.0     3.0    10.0   1001    999.0   \n",
      "2     1.0   0101     9.0  2014.0     4.0     8.0     3.0   0301    999.0   \n",
      "3     3.0   0309     1.0  2015.0     7.0     8.0     3.0   0309     30.0   \n",
      "4    10.0   1001     5.0  2014.0     4.0     4.0    10.0   1001    999.0   \n",
      "\n",
      "   EDADMUJ  PUEHOM  PUEMUJ  NACHOM  NACMUJ  ESCHOM  ESCMUJ   CIUOHOM   CIUOMUJ  \n",
      "0    999.0     9.0     9.0    76.0   320.0     9.0     9.0        34      NEOG  \n",
      "1    999.0     9.0     9.0    76.0   320.0     9.0     9.0  IGNORADO  IGNORADO  \n",
      "2    999.0     4.0     4.0    76.0   320.0     9.0     9.0  IGNORADO  IGNORADO  \n",
      "3     27.0     9.0     9.0   124.0   320.0     1.0     1.0        52      NEOG  \n",
      "4    999.0     9.0     9.0   156.0   320.0     9.0     9.0        52      NEOG  \n"
     ]
    }
   ],
   "source": [
    "data_set, _ = pyreadstat.read_sav(file_path1, row_limit=5)\n",
    "print(data_set)\n"
   ]
  },
  {
   "cell_type": "markdown",
   "metadata": {},
   "source": [
    "Cargar todas las bases de datos de los 10 años"
   ]
  },
  {
   "cell_type": "code",
   "execution_count": null,
   "metadata": {},
   "outputs": [],
   "source": [
    "file_path2 = \"C:\\\\Users\\\\javie\\\\Documents\\\\UVG\\\\Cuarto año\\\\Primer Semestre\\\\Mineria\\\\Bases_P3_Mineria\\\\div_2015.sav\"\n",
    "file_path3 = \"C:\\\\Users\\\\javie\\\\Documents\\\\UVG\\\\Cuarto año\\\\Primer Semestre\\\\Mineria\\\\Bases_P3_Mineria\\\\div_2016.sav\"\n",
    "file_path4 = \"C:\\\\Users\\\\javie\\\\Documents\\\\UVG\\\\Cuarto año\\\\Primer Semestre\\\\Mineria\\\\Bases_P3_Mineria\\\\div_2017.sav\"\n",
    "file_path5 = \"C:\\\\Users\\\\javie\\\\Documents\\\\UVG\\\\Cuarto año\\\\Primer Semestre\\\\Mineria\\\\Bases_P3_Mineria\\\\div_2018.sav\"\n",
    "file_path6 = \"C:\\\\Users\\\\javie\\\\Documents\\\\UVG\\\\Cuarto año\\\\Primer Semestre\\\\Mineria\\\\Bases_P3_Mineria\\\\div_2018.sav\"\n",
    "file_path7 = \"C:\\\\Users\\\\javie\\\\Documents\\\\UVG\\\\Cuarto año\\\\Primer Semestre\\\\Mineria\\\\Bases_P3_Mineria\\\\div_2020.sav\"\n",
    "file_path8 = \"C:\\\\Users\\\\javie\\\\Documents\\\\UVG\\\\Cuarto año\\\\Primer Semestre\\\\Mineria\\\\Bases_P3_Mineria\\\\div_2021.sav\"\n",
    "file_path9 = \"C:\\\\Users\\\\javie\\\\Documents\\\\UVG\\\\Cuarto año\\\\Primer Semestre\\\\Mineria\\\\Bases_P3_Mineria\\\\div_2022.sav\"\n",
    "file_path10 = \"C:\\\\Users\\\\javie\\\\Documents\\\\UVG\\\\Cuarto año\\\\Primer Semestre\\\\Mineria\\\\Bases_P3_Mineria\\\\div_2023.sav\""
   ]
  },
  {
   "cell_type": "code",
   "execution_count": null,
   "metadata": {},
   "outputs": [],
   "source": [
    "# Lista de archivos\n",
    "data_files = [file_path1, file_path2, file_path3, file_path4, file_path5, \n",
    "              file_path6, file_path7, file_path8, file_path9, file_path10]"
   ]
  },
  {
   "cell_type": "code",
   "execution_count": 11,
   "metadata": {},
   "outputs": [],
   "source": [
    "# Lista para almacenar los DataFrames\n",
    "dataframes = []\n",
    "meta = None\n",
    "\n",
    "# Cargar cada archivo y almacenarlo\n",
    "for file in data_files:\n",
    "    df, meta = pyreadstat.read_sav(file)\n",
    "    dataframes.append(df)"
   ]
  },
  {
   "cell_type": "code",
   "execution_count": 16,
   "metadata": {},
   "outputs": [],
   "source": [
    "# Asegurar que todas las columnas tienen el mismo orden\n",
    "dataframes = [df.reindex(columns=dataframes[0].columns) for df in dataframes]\n",
    "\n",
    "# Convertir columnas numéricas a float y sumar\n",
    "combined_df = dataframes[0].copy()\n",
    "for df in dataframes[1:]:\n",
    "    for col in combined_df.columns:\n",
    "        if pd.api.types.is_numeric_dtype(combined_df[col]):\n",
    "            combined_df[col] = combined_df[col].fillna(0) + df[col].fillna(0)\n",
    "\n",
    "# Restaurar los labels de las columnas\n",
    "column_labels = dict(zip(meta.column_names, meta.column_labels))\n"
   ]
  },
  {
   "cell_type": "code",
   "execution_count": 17,
   "metadata": {},
   "outputs": [
    {
     "name": "stdout",
     "output_type": "stream",
     "text": [
      "Columnas del dataset: Index(['DEPREG', 'MUPREG', 'MESREG', 'AÑOREG', 'DIAOCU', 'MESOCU', 'DEPOCU',\n",
      "       'MUPOCU', 'EDADHOM', 'EDADMUJ', 'PUEHOM', 'PUEMUJ', 'NACHOM', 'NACMUJ',\n",
      "       'ESCHOM', 'ESCMUJ', 'CIUOHOM', 'CIUOMUJ'],\n",
      "      dtype='object')\n",
      "Columnas disponibles: ['DEPREG', 'MUPREG', 'MESREG', 'AÑOREG', 'DIAOCU', 'MESOCU', 'AÑOOCU', 'DEPOCU', 'MUPOCU', 'EDADHOM', 'EDADMUJ', 'PUEHOM', 'PUEMUJ', 'NACHOM', 'NACMUJ', 'ESCHOM', 'ESCMUJ', 'CIUOHOM', 'CIUOMUJ']\n",
      "Descripciones: ['Departamento de registro', 'Municipio de registro', 'Mes de registro', 'Año de registro', 'Dia de ocurrencia', 'Mes de ocurrencia', 'Año de ocurrencia', 'Departamento de ocurrencia', 'Municipio de ocurrencia', 'Edad del hombre', 'Edad de la mujer', 'Pueblo de pertenencia del hombre', 'Pueblo de pertenencia de la mujer', 'Nacionalidad del hombre', 'Nacionalidad de la mujer', 'Escolaridad del hombre', 'Escolaridad de la mujer', 'Ocupación (Subgrupos CIUO-08) del hombre', 'Ocupación (Subgrupos CIUO-08) de la mujer']\n",
      "   DEPREG MUPREG  MESREG   AÑOREG  DIAOCU  MESOCU  DEPOCU MUPOCU  EDADHOM  \\\n",
      "0    56.0   1901    70.0  20187.0    91.0    86.0   102.0   1901   5171.0   \n",
      "1    33.0   1001    69.0  20186.0   158.0    57.0    33.0   1001   6138.0   \n",
      "2    80.0   0101    59.0  20186.0    99.0    71.0    48.0   0301   3265.0   \n",
      "3    29.0   0309    49.0  20189.0   150.0    79.0    30.0   0309   4206.0   \n",
      "4   140.0   1001    71.0  20185.0   147.0    60.0   131.0   1001   6119.0   \n",
      "\n",
      "   EDADMUJ  PUEHOM  PUEMUJ  NACHOM  NACMUJ  ESCHOM  ESCMUJ   CIUOHOM   CIUOMUJ  \n",
      "0   6136.0    31.0    23.0  2472.0  3200.0    42.0    62.0        34      NEOG  \n",
      "1   6139.0    31.0    26.0  3188.0  3200.0    57.0    73.0  IGNORADO  IGNORADO  \n",
      "2   3235.0    16.0    16.0  2536.0  3200.0    40.0    61.0  IGNORADO  IGNORADO  \n",
      "3   4183.0    23.0    26.0  2724.0  3200.0    40.0    57.0        52      NEOG  \n",
      "4   6102.0    21.0    21.0  2868.0  3200.0    46.0    69.0        52      NEOG  \n"
     ]
    }
   ],
   "source": [
    "# Mostrar resultado\n",
    "print(\"Columnas del dataset:\", combined_df.columns)\n",
    "print(\"Columnas disponibles:\", meta.column_names)\n",
    "print(\"Descripciones:\", meta.column_labels)\n",
    "print(combined_df.head())"
   ]
  },
  {
   "cell_type": "code",
   "execution_count": 18,
   "metadata": {},
   "outputs": [],
   "source": [
    "# Guardar el resultado en un nuevo archivo .sav\n",
    "output_path = \"C:\\\\Users\\\\javie\\\\Documents\\\\UVG\\\\Cuarto año\\\\Primer Semestre\\\\Mineria\\\\Bases_P3_Mineria\\\\div_completo.sav\"\n",
    "pyreadstat.write_sav(combined_df, output_path, column_labels=column_labels)\n"
   ]
  }
 ],
 "metadata": {
  "kernelspec": {
   "display_name": "Python 3",
   "language": "python",
   "name": "python3"
  },
  "language_info": {
   "codemirror_mode": {
    "name": "ipython",
    "version": 3
   },
   "file_extension": ".py",
   "mimetype": "text/x-python",
   "name": "python",
   "nbconvert_exporter": "python",
   "pygments_lexer": "ipython3",
   "version": "3.11.9"
  }
 },
 "nbformat": 4,
 "nbformat_minor": 2
}
